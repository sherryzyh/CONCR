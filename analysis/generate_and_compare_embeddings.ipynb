{
 "cells": [
  {
   "cell_type": "code",
   "execution_count": null,
   "metadata": {},
   "outputs": [],
   "source": [
    "import jsonlines\n",
    "import json"
   ]
  },
  {
   "cell_type": "code",
   "execution_count": null,
   "metadata": {},
   "outputs": [],
   "source": [
    "with jsonlines.open('../dev_full.jsonl', 'r') as f:\n",
    "    hypotheses1 = [line['hypothesis1'] for line in f]\n",
    "    hypotheses2 = [line['hypothesis2'] for line in f]\n",
    "    explanations = [line['conceptual_explanation'] for line in f]\n",
    "dev_size = len(explanations)"
   ]
  },
  {
   "cell_type": "code",
   "execution_count": null,
   "metadata": {},
   "outputs": [],
   "source": [
    "eg_explanation_file = 'gpt2_eg_epoch_6_explanations.csv'\n",
    "cr_eg_explanation_file = 'gpt2_cr_eg_epoch_8_explanations.csv'\n",
    "with open('raw_output/' + eg_explanation_file, 'r') as f:\n",
    "    lines = f.readlines()\n",
    "    eg_explanations = [line.strip(\"\\n\") for line in lines]\n",
    "with open('raw_output/' + cr_eg_explanation_file, 'r') as f:\n",
    "    lines = f.readlines()\n",
    "    cr_eg_explanations = [line.strip(\"\\n\") for line in lines]"
   ]
  },
  {
   "cell_type": "code",
   "execution_count": null,
   "metadata": {},
   "outputs": [],
   "source": [
    "import pickle\n",
    "from sentence_transformers import SentenceTransformer, util\n",
    "model = SentenceTransformer('all-MiniLM-L6-v2')"
   ]
  },
  {
   "cell_type": "code",
   "execution_count": null,
   "metadata": {},
   "outputs": [],
   "source": [
    "hypothesis1_embeddings = model.encode(hypotheses1)\n",
    "hypothesis2_embeddings = model.encode(hypotheses1)"
   ]
  },
  {
   "cell_type": "code",
   "execution_count": null,
   "metadata": {},
   "outputs": [],
   "source": [
    "# Store sentences & embeddings on disc\n",
    "with open('embeddings/hypothesis1_embeddings.pkl', \"wb\") as fOut:\n",
    "    pickle.dump({'hypotheses1': hypotheses1, 'embeddings': hypothesis1_embeddings}, fOut, protocol=pickle.HIGHEST_PROTOCOL)\n",
    "with open('embeddings/hypothesis2_embeddings.pkl', \"wb\") as fOut:\n",
    "    pickle.dump({'hypotheses2': hypotheses2, 'embeddings': hypothesis2_embeddings}, fOut, protocol=pickle.HIGHEST_PROTOCOL)"
   ]
  },
  {
   "cell_type": "code",
   "execution_count": null,
   "metadata": {},
   "outputs": [],
   "source": [
    "explanation_embeddings = model.encode(explanations)\n",
    "eg_explanation_embeddings = model.encode(eg_explanations)\n",
    "cr_eg_explanation_embeddings = model.encode(cr_eg_explanations)"
   ]
  },
  {
   "cell_type": "code",
   "execution_count": null,
   "metadata": {},
   "outputs": [],
   "source": [
    "# Store sentences & embeddings on disc\n",
    "with open('embeddings/explanation_embeddings.pkl', \"wb\") as fOut:\n",
    "    pickle.dump({'explanations': explanations, 'embeddings': explanation_embeddings}, fOut, protocol=pickle.HIGHEST_PROTOCOL)\n",
    "with open('embeddings/eg_explanation_embeddings.pkl', \"wb\") as fOut:\n",
    "    pickle.dump({'eg_explanations': eg_explanations, 'embeddings': eg_explanation_embeddings}, fOut, protocol=pickle.HIGHEST_PROTOCOL)\n",
    "with open('embeddings/cr_eg_explanation_embeddings.pkl', \"wb\") as fOut:\n",
    "    pickle.dump({'cr_eg_explanations': cr_eg_explanations, 'embeddings': cr_eg_explanation_embeddings}, fOut, protocol=pickle.HIGHEST_PROTOCOL)"
   ]
  },
  {
   "cell_type": "code",
   "execution_count": null,
   "metadata": {},
   "outputs": [],
   "source": [
    "cos_sim = util.cos_sim(emb1, emb2)"
   ]
  }
 ],
 "metadata": {
  "language_info": {
   "name": "python"
  },
  "orig_nbformat": 4
 },
 "nbformat": 4,
 "nbformat_minor": 2
}
