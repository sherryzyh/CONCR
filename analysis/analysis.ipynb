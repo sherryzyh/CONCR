{
 "cells": [
  {
   "cell_type": "code",
   "execution_count": 1,
   "metadata": {},
   "outputs": [],
   "source": [
    "import json"
   ]
  },
  {
   "cell_type": "code",
   "execution_count": 5,
   "metadata": {},
   "outputs": [],
   "source": [
    "def load_metric_log(experiment):\n",
    "    with open('raw_output/' + experiment + '_metric_log.json') as f:\n",
    "        metric_log = json.load(f)\n",
    "    return metric_log"
   ]
  },
  {
   "cell_type": "code",
   "execution_count": 7,
   "metadata": {},
   "outputs": [],
   "source": [
    "cr_metric_log = load_metric_log('gpt2_cr')\n",
    "eg_metric_log = load_metric_log('gpt2_eg')\n",
    "cr_eg_metric_log = load_metric_log('gpt2_cr_eg')"
   ]
  },
  {
   "cell_type": "code",
   "execution_count": 20,
   "metadata": {},
   "outputs": [],
   "source": [
    "def select_epoch(metric_log, best=True, epoch=None, multitask=False, metric=None):\n",
    "    if not best:\n",
    "        assert isinstance(epoch, int), \"Please provide an int epoch number, when not selecting the best epoch\"\n",
    "        assert 0 <= epoch < len(metric_log), \"Epoch number is too small or too large\"\n",
    "        return {f'epoch_{epoch}':metric_log[f'epoch_{epoch}']}\n",
    "    \n",
    "    if not metric:\n",
    "        metric = 'val_total_loss' if multitask else 'val_loss'\n",
    "    minimize = False\n",
    "    if 'loss' in metric:\n",
    "        minimize = True\n",
    "    best_epoch = 'epoch_0'\n",
    "    assert metric in metric_log[best_epoch], \"Metric is invalid. Consider checking if model is multitask\"\n",
    "    for epoch_key, epoch_metrics in metric_log.items():\n",
    "        if minimize and epoch_metrics[metric] < metric_log[best_epoch][metric]:\n",
    "            best_epoch = epoch_key\n",
    "            continue\n",
    "        if not minimize and epoch_metrics[metric] > metric_log[best_epoch][metric]:\n",
    "            best_epoch = epoch_key\n",
    "    return {best_epoch:metric_log[best_epoch]}"
   ]
  },
  {
   "cell_type": "code",
   "execution_count": 19,
   "metadata": {},
   "outputs": [],
   "source": [
    "cr_best_epoch, cr_3epochs = select_epoch(cr_metric_log), select_epoch(cr_metric_log, best=False, epoch=2)\n",
    "eg_best_epoch, eg_10epochs = select_epoch(eg_metric_log), select_epoch(eg_metric_log, best=False, epoch=9)\n",
    "cr_eg_best_epoch = select_epoch(cr_eg_metric_log, multitask=True)\n",
    "cr_eg_5epochs = select_epoch(cr_eg_metric_log, best=False, multitask=True, epoch=4)\n",
    "cr_best_accuracy_epoch = select_epoch(cr_metric_log, metric='accuracy')\n",
    "cr_eg_best_accuracy_epoch = select_epoch(cr_eg_metric_log, metric='accuracy')"
   ]
  },
  {
   "cell_type": "code",
   "execution_count": 59,
   "metadata": {},
   "outputs": [],
   "source": [
    "def view(metrics):\n",
    "    for epoch, log in metrics.items():\n",
    "        print(epoch, [f'{metric}: {value:.4f}' for metric, value in log.items() if 'train' not in metric])"
   ]
  },
  {
   "cell_type": "code",
   "execution_count": 61,
   "metadata": {},
   "outputs": [
    {
     "name": "stdout",
     "output_type": "stream",
     "text": [
      "CR:\n",
      "epoch_2 ['val_loss: 2.0488', 'accuracy: 0.6656']\n",
      "CR-EG:\n",
      "epoch_4 ['val_total_loss: 4.8051', 'val_cr_loss: 4.0053', 'val_eg_loss: 12.0040', 'accuracy: 0.6993', 'bleu1: 0.5610', 'bleu2: 0.3544', 'bleu3: 0.2569', 'bleu4: 0.2154', 'avg_bleu: 0.3469', 'rouge1: 0.3444', 'rouge2: 0.1165', 'rougel: 0.3350', 'perplexity: 6.7933']\n",
      "EG:\n",
      "epoch_9 ['val_loss: 6.3349', 'bleu1: 0.4957', 'bleu2: 0.3035', 'bleu3: 0.2041', 'bleu4: 0.1630', 'avg_bleu: 0.2916', 'rouge1: 0.3266', 'rouge2: 0.1028', 'rougel: 0.3126', 'perplexity: 7.2673']\n"
     ]
    }
   ],
   "source": [
    "# Selected epochs reported by paper\n",
    "print('CR:')\n",
    "view(cr_3epochs)\n",
    "print('CR-EG:')\n",
    "view(cr_eg_5epochs)\n",
    "print('EG:')\n",
    "view(eg_10epochs)"
   ]
  },
  {
   "cell_type": "code",
   "execution_count": 68,
   "metadata": {},
   "outputs": [
    {
     "name": "stdout",
     "output_type": "stream",
     "text": [
      "Best loss:\n",
      "epoch_5 ['val_loss: 2.0053', 'accuracy: 0.6820']\n",
      "Best accuracy:\n",
      "epoch_9 ['val_loss: 2.1330', 'accuracy: 0.7017']\n"
     ]
    }
   ],
   "source": [
    "# CR: best epochs\n",
    "print('Best loss:')\n",
    "view(cr_best_epoch)\n",
    "print('Best accuracy:')\n",
    "view(cr_best_accuracy_epoch) "
   ]
  },
  {
   "cell_type": "code",
   "execution_count": 67,
   "metadata": {},
   "outputs": [
    {
     "name": "stdout",
     "output_type": "stream",
     "text": [
      "Best loss:\n",
      "epoch_4 ['val_total_loss: 4.8051', 'val_cr_loss: 4.0053', 'val_eg_loss: 12.0040', 'accuracy: 0.6993', 'bleu1: 0.5610', 'bleu2: 0.3544', 'bleu3: 0.2569', 'bleu4: 0.2154', 'avg_bleu: 0.3469', 'rouge1: 0.3444', 'rouge2: 0.1165', 'rougel: 0.3350', 'perplexity: 6.7933']\n",
      "Best accuracy:\n",
      "epoch_8 ['val_total_loss: 5.3411', 'val_cr_loss: 4.6100', 'val_eg_loss: 11.9217', 'accuracy: 0.7149', 'bleu1: 0.5581', 'bleu2: 0.3512', 'bleu3: 0.2562', 'bleu4: 0.2156', 'avg_bleu: 0.3453', 'rouge1: 0.3462', 'rouge2: 0.1132', 'rougel: 0.3357', 'perplexity: 6.6798']\n"
     ]
    }
   ],
   "source": [
    "# CR-EG: best epochs\n",
    "print('Best loss:')\n",
    "view(cr_eg_best_epoch)\n",
    "print('Best accuracy:')\n",
    "view(cr_eg_best_accuracy_epoch) "
   ]
  },
  {
   "cell_type": "code",
   "execution_count": 69,
   "metadata": {},
   "outputs": [
    {
     "name": "stdout",
     "output_type": "stream",
     "text": [
      "epoch_6 ['val_loss: 5.9345', 'bleu1: 0.5379', 'bleu2: 0.3250', 'bleu3: 0.2227', 'bleu4: 0.1804', 'avg_bleu: 0.3165', 'rouge1: 0.3259', 'rouge2: 0.0982', 'rougel: 0.3137', 'perplexity: 6.8181']\n"
     ]
    }
   ],
   "source": [
    "# EG: best epoch\n",
    "view(eg_best_epoch)"
   ]
  },
  {
   "cell_type": "code",
   "execution_count": null,
   "metadata": {},
   "outputs": [],
   "source": []
  }
 ],
 "metadata": {
  "kernelspec": {
   "display_name": "Python 3.10.6 ('ecr': venv)",
   "language": "python",
   "name": "python3"
  },
  "language_info": {
   "codemirror_mode": {
    "name": "ipython",
    "version": 3
   },
   "file_extension": ".py",
   "mimetype": "text/x-python",
   "name": "python",
   "nbconvert_exporter": "python",
   "pygments_lexer": "ipython3",
   "version": "3.10.6"
  },
  "orig_nbformat": 4,
  "vscode": {
   "interpreter": {
    "hash": "342cf50a2a0ccf205598e4cf1419c1a77eb2eb180ab9b4fd6e25a3bde062807b"
   }
  }
 },
 "nbformat": 4,
 "nbformat_minor": 2
}
