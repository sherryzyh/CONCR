{
 "cells": [
  {
   "cell_type": "code",
   "execution_count": 1,
   "metadata": {},
   "outputs": [],
   "source": [
    "import json"
   ]
  },
  {
   "cell_type": "code",
   "execution_count": 5,
   "metadata": {},
   "outputs": [],
   "source": [
    "def load_metric_log(experiment):\n",
    "    with open('raw_output/' + experiment + '_metric_log.json') as f:\n",
    "        metric_log = json.load(f)\n",
    "    return metric_log"
   ]
  },
  {
   "cell_type": "code",
   "execution_count": 7,
   "metadata": {},
   "outputs": [],
   "source": [
    "cr_metric_log = load_metric_log('gpt2_cr')\n",
    "eg_metric_log = load_metric_log('gpt2_eg')\n",
    "cr_eg_metric_log = load_metric_log('gpt2_cr_eg')"
   ]
  },
  {
   "cell_type": "code",
   "execution_count": 20,
   "metadata": {},
   "outputs": [],
   "source": [
    "def select_epoch(metric_log, best=True, epoch=None, multitask=False, metric=None):\n",
    "    if not best:\n",
    "        assert isinstance(epoch, int), \"Please provide an int epoch number, when not selecting the best epoch\"\n",
    "        assert 0 <= epoch < len(metric_log), \"Epoch number is too small or too large\"\n",
    "        return {f'epoch_{epoch}':metric_log[f'epoch_{epoch}']}\n",
    "    \n",
    "    if not metric:\n",
    "        metric = 'val_total_loss' if multitask else 'val_loss'\n",
    "    minimize = False\n",
    "    if 'loss' in metric:\n",
    "        minimize = True\n",
    "    best_epoch = 'epoch_0'\n",
    "    assert metric in metric_log[best_epoch], \"Metric is invalid. Consider checking if model is multitask\"\n",
    "    for epoch_key, epoch_metrics in metric_log.items():\n",
    "        if minimize and epoch_metrics[metric] < metric_log[best_epoch][metric]:\n",
    "            best_epoch = epoch_key\n",
    "            continue\n",
    "        if not minimize and epoch_metrics[metric] > metric_log[best_epoch][metric]:\n",
    "            best_epoch = epoch_key\n",
    "    return {best_epoch:metric_log[best_epoch]}"
   ]
  },
  {
   "cell_type": "code",
   "execution_count": 19,
   "metadata": {},
   "outputs": [],
   "source": [
    "cr_best_epoch, cr_3epochs = select_epoch(cr_metric_log), select_epoch(cr_metric_log, best=False, epoch=2)\n",
    "eg_best_epoch, eg_10epochs = select_epoch(eg_metric_log), select_epoch(eg_metric_log, best=False, epoch=9)\n",
    "cr_eg_best_epoch = select_epoch(cr_eg_metric_log, multitask=True)\n",
    "cr_eg_5epochs = select_epoch(cr_eg_metric_log, best=False, multitask=True, epoch=4)\n",
    "cr_best_accuracy_epoch = select_epoch(cr_metric_log, metric='accuracy')\n",
    "cr_eg_best_accuracy_epoch = select_epoch(cr_eg_metric_log, metric='accuracy')"
   ]
  },
  {
   "cell_type": "code",
   "execution_count": 31,
   "metadata": {},
   "outputs": [
    {
     "name": "stdout",
     "output_type": "stream",
     "text": [
      "cr_3epochs\n",
      "{'epoch_2': {'train_loss': 1.0333056031173888, 'val_loss': 2.0487872369964846, 'accuracy': 0.6655722326454033}}\n",
      "cr_eg_5epochs\n",
      "{'epoch_4': {'train_total_loss': 2.24081388208516, 'train_cr_loss': 1.8229743378937628, 'train_eg_loss': 6.001370024467077, 'val_total_loss': 4.805128892899458, 'val_cr_loss': 4.00525179817135, 'val_eg_loss': 12.004023217345948, 'accuracy': 0.6993402450518379, 'bleu1': 0.5609781410714333, 'bleu2': 0.35440634303043567, 'bleu3': 0.25694576650325485, 'bleu4': 0.2153551271775811, 'avg_bleu': 0.3469213444456762, 'rouge1': 0.3443884383744124, 'rouge2': 0.11654123344884001, 'rougel': 0.33495320820229396, 'perplexity': 6.79328727722168}}\n",
      "eg_10epochs\n",
      "{'epoch_9': {'train_loss': 4.8014943513867685, 'val_loss': 6.334864847208277, 'bleu1': 0.49573143807849906, 'bleu2': 0.3035366110698238, 'bleu3': 0.20408104394865365, 'bleu4': 0.1629515549214478, 'avg_bleu': 0.2915751620046061, 'rouge1': 0.3266294556128739, 'rouge2': 0.10278297041864803, 'rougel': 0.3126075220166655, 'perplexity': 7.267282485961914}}\n"
     ]
    }
   ],
   "source": [
    "# Selected epochs reported by paper\n",
    "print('cr_3epochs')\n",
    "print(cr_3epochs)\n",
    "print('cr_eg_5epochs')\n",
    "print(cr_eg_5epochs)\n",
    "print('eg_10epochs')\n",
    "print(eg_10epochs)"
   ]
  },
  {
   "cell_type": "code",
   "execution_count": 30,
   "metadata": {},
   "outputs": [
    {
     "name": "stdout",
     "output_type": "stream",
     "text": [
      "cr_best_epoch\n",
      "{'epoch_5': {'train_loss': 0.9357343524558833, 'val_loss': 2.0053413079782456, 'accuracy': 0.6819887429643527}}\n",
      "cr_best_accuracy_epoch\n",
      "{'epoch_9': {'train_loss': 0.779406982922739, 'val_loss': 2.1329857450936123, 'accuracy': 0.701688555347092}}\n"
     ]
    }
   ],
   "source": [
    "# CR: best epochs\n",
    "print('cr_best_epoch')\n",
    "print(cr_best_epoch)\n",
    "print('cr_best_accuracy_epoch')\n",
    "print(cr_best_accuracy_epoch) "
   ]
  },
  {
   "cell_type": "code",
   "execution_count": 29,
   "metadata": {},
   "outputs": [
    {
     "name": "stdout",
     "output_type": "stream",
     "text": [
      "cr_eg_best_epoch\n",
      "{'epoch_4': {'train_total_loss': 2.24081388208516, 'train_cr_loss': 1.8229743378937628, 'train_eg_loss': 6.001370024467077, 'val_total_loss': 4.805128892899458, 'val_cr_loss': 4.00525179817135, 'val_eg_loss': 12.004023217345948, 'accuracy': 0.6993402450518379, 'bleu1': 0.5609781410714333, 'bleu2': 0.35440634303043567, 'bleu3': 0.25694576650325485, 'bleu4': 0.2153551271775811, 'avg_bleu': 0.3469213444456762, 'rouge1': 0.3443884383744124, 'rouge2': 0.11654123344884001, 'rougel': 0.33495320820229396, 'perplexity': 6.79328727722168}}\n",
      "cr_eg_best_accuracy_epoch\n",
      "{'epoch_8': {'train_total_loss': 1.8103833076726779, 'train_cr_loss': 1.3862930266196578, 'train_eg_loss': 5.627196096482768, 'val_total_loss': 5.341133986521621, 'val_cr_loss': 4.609960372385048, 'val_eg_loss': 11.92169716962658, 'accuracy': 0.7148916116870877, 'bleu1': 0.5581311125261607, 'bleu2': 0.351170538670631, 'bleu3': 0.2561837579816091, 'bleu4': 0.21563342179337744, 'avg_bleu': 0.3452797077429446, 'rouge1': 0.34621903252599906, 'rouge2': 0.11316301000318572, 'rougel': 0.33572298588723193, 'perplexity': 6.6797943115234375}}\n"
     ]
    }
   ],
   "source": [
    "# CR-EG: best epochs\n",
    "print('cr_eg_best_epoch')\n",
    "print(cr_eg_best_epoch)\n",
    "print('cr_eg_best_accuracy_epoch')\n",
    "print(cr_eg_best_accuracy_epoch) "
   ]
  },
  {
   "cell_type": "code",
   "execution_count": 32,
   "metadata": {},
   "outputs": [
    {
     "name": "stdout",
     "output_type": "stream",
     "text": [
      "{'epoch_6': {'train_loss': 5.448050856015922, 'val_loss': 5.9345028022440465, 'bleu1': 0.537882484100006, 'bleu2': 0.32500600749795944, 'bleu3': 0.22265372228024968, 'bleu4': 0.18041089653768486, 'avg_bleu': 0.316488277603975, 'rouge1': 0.32588110017029265, 'rouge2': 0.09823059827301911, 'rougel': 0.3136544500025351, 'perplexity': 6.818094253540039}}\n"
     ]
    }
   ],
   "source": [
    "# EG: best epoch\n",
    "print(eg_best_epoch)"
   ]
  },
  {
   "cell_type": "code",
   "execution_count": null,
   "metadata": {},
   "outputs": [],
   "source": []
  }
 ],
 "metadata": {
  "kernelspec": {
   "display_name": "Python 3.10.6 ('ecr': venv)",
   "language": "python",
   "name": "python3"
  },
  "language_info": {
   "codemirror_mode": {
    "name": "ipython",
    "version": 3
   },
   "file_extension": ".py",
   "mimetype": "text/x-python",
   "name": "python",
   "nbconvert_exporter": "python",
   "pygments_lexer": "ipython3",
   "version": "3.10.6"
  },
  "orig_nbformat": 4,
  "vscode": {
   "interpreter": {
    "hash": "342cf50a2a0ccf205598e4cf1419c1a77eb2eb180ab9b4fd6e25a3bde062807b"
   }
  }
 },
 "nbformat": 4,
 "nbformat_minor": 2
}
