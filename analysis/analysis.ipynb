{
 "cells": [
  {
   "cell_type": "markdown",
   "metadata": {},
   "source": [
    "Macro Evaluation"
   ]
  },
  {
   "cell_type": "code",
   "execution_count": 122,
   "metadata": {},
   "outputs": [],
   "source": [
    "import json\n",
    "import jsonlines"
   ]
  },
  {
   "cell_type": "code",
   "execution_count": 5,
   "metadata": {},
   "outputs": [],
   "source": [
    "def load_metric_log(experiment):\n",
    "    with open('raw_output/' + experiment + '_metric_log.json') as f:\n",
    "        metric_log = json.load(f)\n",
    "    return metric_log"
   ]
  },
  {
   "cell_type": "code",
   "execution_count": 7,
   "metadata": {},
   "outputs": [],
   "source": [
    "cr_metric_log = load_metric_log('gpt2_cr')\n",
    "eg_metric_log = load_metric_log('gpt2_eg')\n",
    "cr_eg_metric_log = load_metric_log('gpt2_cr_eg')"
   ]
  },
  {
   "cell_type": "code",
   "execution_count": 20,
   "metadata": {},
   "outputs": [],
   "source": [
    "def select_epoch(metric_log, best=True, epoch=None, multitask=False, metric=None):\n",
    "    if not best:\n",
    "        assert isinstance(epoch, int), \"Please provide an int epoch number, when not selecting the best epoch\"\n",
    "        assert 0 <= epoch < len(metric_log), \"Epoch number is too small or too large\"\n",
    "        return {f'epoch_{epoch}':metric_log[f'epoch_{epoch}']}\n",
    "    \n",
    "    if not metric:\n",
    "        metric = 'val_total_loss' if multitask else 'val_loss'\n",
    "    minimize = False\n",
    "    if 'loss' in metric:\n",
    "        minimize = True\n",
    "    best_epoch = 'epoch_0'\n",
    "    assert metric in metric_log[best_epoch], \"Metric is invalid. Consider checking if model is multitask\"\n",
    "    for epoch_key, epoch_metrics in metric_log.items():\n",
    "        if minimize and epoch_metrics[metric] < metric_log[best_epoch][metric]:\n",
    "            best_epoch = epoch_key\n",
    "            continue\n",
    "        if not minimize and epoch_metrics[metric] > metric_log[best_epoch][metric]:\n",
    "            best_epoch = epoch_key\n",
    "    return {best_epoch:metric_log[best_epoch]}"
   ]
  },
  {
   "cell_type": "code",
   "execution_count": 19,
   "metadata": {},
   "outputs": [],
   "source": [
    "cr_best_epoch, cr_3epochs = select_epoch(cr_metric_log), select_epoch(cr_metric_log, best=False, epoch=2)\n",
    "eg_best_epoch, eg_10epochs = select_epoch(eg_metric_log), select_epoch(eg_metric_log, best=False, epoch=9)\n",
    "cr_eg_best_epoch = select_epoch(cr_eg_metric_log, multitask=True)\n",
    "cr_eg_5epochs = select_epoch(cr_eg_metric_log, best=False, multitask=True, epoch=4)\n",
    "cr_best_accuracy_epoch = select_epoch(cr_metric_log, metric='accuracy')\n",
    "cr_eg_best_accuracy_epoch = select_epoch(cr_eg_metric_log, metric='accuracy')"
   ]
  },
  {
   "cell_type": "code",
   "execution_count": 59,
   "metadata": {},
   "outputs": [],
   "source": [
    "def view(metrics):\n",
    "    for epoch, log in metrics.items():\n",
    "        print(epoch, [f'{metric}: {value:.4f}' for metric, value in log.items() if 'train' not in metric])"
   ]
  },
  {
   "cell_type": "code",
   "execution_count": 61,
   "metadata": {},
   "outputs": [
    {
     "name": "stdout",
     "output_type": "stream",
     "text": [
      "CR:\n",
      "epoch_2 ['val_loss: 2.0488', 'accuracy: 0.6656']\n",
      "CR-EG:\n",
      "epoch_4 ['val_total_loss: 4.8051', 'val_cr_loss: 4.0053', 'val_eg_loss: 12.0040', 'accuracy: 0.6993', 'bleu1: 0.5610', 'bleu2: 0.3544', 'bleu3: 0.2569', 'bleu4: 0.2154', 'avg_bleu: 0.3469', 'rouge1: 0.3444', 'rouge2: 0.1165', 'rougel: 0.3350', 'perplexity: 6.7933']\n",
      "EG:\n",
      "epoch_9 ['val_loss: 6.3349', 'bleu1: 0.4957', 'bleu2: 0.3035', 'bleu3: 0.2041', 'bleu4: 0.1630', 'avg_bleu: 0.2916', 'rouge1: 0.3266', 'rouge2: 0.1028', 'rougel: 0.3126', 'perplexity: 7.2673']\n"
     ]
    }
   ],
   "source": [
    "# Selected epochs reported by paper\n",
    "print('CR:')\n",
    "view(cr_3epochs)\n",
    "print('CR-EG:')\n",
    "view(cr_eg_5epochs)\n",
    "print('EG:')\n",
    "view(eg_10epochs)"
   ]
  },
  {
   "cell_type": "code",
   "execution_count": 68,
   "metadata": {},
   "outputs": [
    {
     "name": "stdout",
     "output_type": "stream",
     "text": [
      "Best loss:\n",
      "epoch_5 ['val_loss: 2.0053', 'accuracy: 0.6820']\n",
      "Best accuracy:\n",
      "epoch_9 ['val_loss: 2.1330', 'accuracy: 0.7017']\n"
     ]
    }
   ],
   "source": [
    "# CR: best epochs\n",
    "print('Best loss:')\n",
    "view(cr_best_epoch)\n",
    "print('Best accuracy:')\n",
    "view(cr_best_accuracy_epoch) "
   ]
  },
  {
   "cell_type": "code",
   "execution_count": 67,
   "metadata": {},
   "outputs": [
    {
     "name": "stdout",
     "output_type": "stream",
     "text": [
      "Best loss:\n",
      "epoch_4 ['val_total_loss: 4.8051', 'val_cr_loss: 4.0053', 'val_eg_loss: 12.0040', 'accuracy: 0.6993', 'bleu1: 0.5610', 'bleu2: 0.3544', 'bleu3: 0.2569', 'bleu4: 0.2154', 'avg_bleu: 0.3469', 'rouge1: 0.3444', 'rouge2: 0.1165', 'rougel: 0.3350', 'perplexity: 6.7933']\n",
      "Best accuracy:\n",
      "epoch_8 ['val_total_loss: 5.3411', 'val_cr_loss: 4.6100', 'val_eg_loss: 11.9217', 'accuracy: 0.7149', 'bleu1: 0.5581', 'bleu2: 0.3512', 'bleu3: 0.2562', 'bleu4: 0.2156', 'avg_bleu: 0.3453', 'rouge1: 0.3462', 'rouge2: 0.1132', 'rougel: 0.3357', 'perplexity: 6.6798']\n"
     ]
    }
   ],
   "source": [
    "# CR-EG: best epochs\n",
    "print('Best loss:')\n",
    "view(cr_eg_best_epoch)\n",
    "print('Best accuracy:')\n",
    "view(cr_eg_best_accuracy_epoch) "
   ]
  },
  {
   "cell_type": "code",
   "execution_count": 69,
   "metadata": {},
   "outputs": [
    {
     "name": "stdout",
     "output_type": "stream",
     "text": [
      "epoch_6 ['val_loss: 5.9345', 'bleu1: 0.5379', 'bleu2: 0.3250', 'bleu3: 0.2227', 'bleu4: 0.1804', 'avg_bleu: 0.3165', 'rouge1: 0.3259', 'rouge2: 0.0982', 'rougel: 0.3137', 'perplexity: 6.8181']\n"
     ]
    }
   ],
   "source": [
    "# EG: best epoch\n",
    "view(eg_best_epoch)"
   ]
  },
  {
   "cell_type": "markdown",
   "metadata": {},
   "source": [
    "Micro Evaluation"
   ]
  },
  {
   "cell_type": "code",
   "execution_count": 188,
   "metadata": {},
   "outputs": [],
   "source": [
    "from matplotlib import pyplot as plt\n",
    "import seaborn as sns"
   ]
  },
  {
   "cell_type": "code",
   "execution_count": 157,
   "metadata": {},
   "outputs": [],
   "source": [
    "import pandas as pd"
   ]
  },
  {
   "cell_type": "code",
   "execution_count": 84,
   "metadata": {},
   "outputs": [],
   "source": [
    "# load micro evaluation results\n",
    "def load_cr_micro(filename):\n",
    "    with open('micro_evaluation/' + filename, 'r') as f:\n",
    "        lines = f.readlines()\n",
    "        return [int(line) for line in lines]"
   ]
  },
  {
   "cell_type": "code",
   "execution_count": 87,
   "metadata": {},
   "outputs": [],
   "source": [
    "# load macro evaluation results\n",
    "def load_eg_micro(filename):\n",
    "    with open('micro_evaluation/' + filename, 'r') as f:\n",
    "        return json.load(f)"
   ]
  },
  {
   "cell_type": "code",
   "execution_count": 91,
   "metadata": {},
   "outputs": [],
   "source": [
    "single_cr = load_cr_micro('gpt2_cr_epoch_9_micro_CR.csv')\n",
    "multi_cr = load_cr_micro('gpt2_cr_eg_epoch_8_micro_CR.csv')"
   ]
  },
  {
   "cell_type": "code",
   "execution_count": 139,
   "metadata": {},
   "outputs": [],
   "source": [
    "single_eg = load_eg_micro('gpt2_eg_epoch_6_micro_EG.json')\n",
    "multi_eg = load_eg_micro('gpt2_cr_eg_epoch_8_micro_EG.json')\n",
    "eg_metric_list = single_eg[0].keys()"
   ]
  },
  {
   "cell_type": "code",
   "execution_count": 140,
   "metadata": {},
   "outputs": [],
   "source": [
    "# m0 is single, m1 is multi\n",
    "m0_cr = single_cr\n",
    "m1_cr = multi_cr\n",
    "m0_eg = None\n",
    "m1_eg = multi_eg"
   ]
  },
  {
   "cell_type": "code",
   "execution_count": 143,
   "metadata": {},
   "outputs": [],
   "source": [
    "m0_right_m1_wrong = dict(indices=[])\n",
    "m0_wrong_m1_right = dict(indices=[])\n",
    "both_right = dict(indices=[])\n",
    "both_wrong = dict(indices=[])\n",
    "for i in range(len(m1_cr)):\n",
    "    if m0_cr[i] == 1:\n",
    "        if m1_cr[i] == 1:\n",
    "            both_right['indices'].append(i)\n",
    "        else:\n",
    "            m0_right_m1_wrong['indices'].append(i)\n",
    "    else:\n",
    "        if m1_cr[i] == 1:\n",
    "            m0_wrong_m1_right['indices'].append(i)\n",
    "        else:\n",
    "            both_wrong['indices'].append(i)\n",
    "        "
   ]
  },
  {
   "cell_type": "code",
   "execution_count": 144,
   "metadata": {},
   "outputs": [],
   "source": [
    "def compute_eg_aggregate_metrics(bucket, m0_eg, m1_eg):\n",
    "    for metric in eg_metric_list:\n",
    "        m0_values, m1_values = [], []\n",
    "        for i in bucket['indices']:\n",
    "            if m0_eg:\n",
    "                m0_values.append(m0_eg[i][metric])\n",
    "            m1_values.append(m1_eg[i][metric])\n",
    "        if m0_eg:\n",
    "            bucket[metric] = dict(\n",
    "                m0=sum(m0_values)/len(m0_values) if len(m0_values) > 0 else 0,\n",
    "                m1=sum(m1_values)/len(m1_values) if len(m1_values) > 0 else 0\n",
    "            )\n",
    "        else:\n",
    "            bucket[metric] = sum(m1_values)/len(m1_values) if len(m1_values) > 0 else 0\n"
   ]
  },
  {
   "cell_type": "code",
   "execution_count": 145,
   "metadata": {},
   "outputs": [],
   "source": [
    "compute_eg_aggregate_metrics(m0_right_m1_wrong, m0_eg, m1_eg)\n",
    "compute_eg_aggregate_metrics(m0_wrong_m1_right, m0_eg, m1_eg)\n",
    "compute_eg_aggregate_metrics(both_right, m0_eg, m1_eg)\n",
    "compute_eg_aggregate_metrics(both_wrong, m0_eg, m1_eg)"
   ]
  },
  {
   "cell_type": "code",
   "execution_count": 146,
   "metadata": {},
   "outputs": [],
   "source": [
    "def view_eg_aggregate_metrics(bucket):\n",
    "    for metric in eg_metric_list:\n",
    "        print(metric, bucket[metric])\n"
   ]
  },
  {
   "cell_type": "code",
   "execution_count": 147,
   "metadata": {},
   "outputs": [
    {
     "name": "stdout",
     "output_type": "stream",
     "text": [
      "m0 wrong m1 right\n",
      "avg_bleu 0.29032130606855094\n",
      "rouge1 0.2472919086333722\n",
      "rouge2 0.08458712696517572\n",
      "rougel 0.23992154864106102\n",
      "avg_rouge 0.19060019474653617\n",
      "cos_sim 0.6138139215275282\n",
      "m0 right m1 wrong\n",
      "avg_bleu 0.3069072789564377\n",
      "rouge1 0.26775409359679037\n",
      "rouge2 0.08250270328922012\n",
      "rougel 0.26217024236687175\n",
      "avg_rouge 0.20414234641762727\n",
      "cos_sim 0.6036745635060112\n",
      "both right\n",
      "avg_bleu 0.30467817745823883\n",
      "rouge1 0.26281306955737543\n",
      "rouge2 0.08732734204958924\n",
      "rougel 0.25570548912718466\n",
      "avg_rouge 0.2019486335780507\n",
      "cos_sim 0.624154872264537\n",
      "both wrong\n",
      "avg_bleu 0.28807247115062345\n",
      "rouge1 0.24400039525917758\n",
      "rouge2 0.07304396748190654\n",
      "rougel 0.2353702308620343\n",
      "avg_rouge 0.18413819786770627\n",
      "cos_sim 0.6025205422978002\n"
     ]
    }
   ],
   "source": [
    "print(\"m0 wrong m1 right\")\n",
    "view_eg_aggregate_metrics(m0_wrong_m1_right)\n",
    "print(\"m0 right m1 wrong\")\n",
    "view_eg_aggregate_metrics(m0_right_m1_wrong)\n",
    "print(\"both right\")\n",
    "view_eg_aggregate_metrics(both_right)\n",
    "print(\"both wrong\")\n",
    "view_eg_aggregate_metrics(both_wrong)"
   ]
  },
  {
   "cell_type": "code",
   "execution_count": 129,
   "metadata": {},
   "outputs": [],
   "source": [
    "fi = jsonlines.open('../data/dev_full_augmented.jsonl', 'r')\n",
    "ask_for_cause = [1 if line['ask-for'] == 'cause' else 0 for line in fi]\n",
    "fi = jsonlines.open('../data/dev_full_augmented.jsonl', 'r')\n",
    "hypo_sim = [line['hypotheses_cosine_sim'] for line in fi]"
   ]
  },
  {
   "cell_type": "code",
   "execution_count": 134,
   "metadata": {},
   "outputs": [],
   "source": [
    "def cut_cr_by_task(bucket):\n",
    "    cause_list = []\n",
    "    hypo_sim_list = []\n",
    "    for i in bucket['indices']:\n",
    "        cause_list.append(ask_for_cause[i])\n",
    "        hypo_sim_list.append(hypo_sim[i])\n",
    "    bucket['ask_for_cause_ratio'] = sum(cause_list) / len(cause_list) if len(cause_list) > 0 else 0\n",
    "    bucket['avg_hypo_sim'] = sum(hypo_sim_list) / len(hypo_sim_list) if len(hypo_sim_list) > 0 else 0\n",
    "    print('ask_for_cause_ratio', bucket['ask_for_cause_ratio'])\n",
    "    print('hypo_sim', bucket['avg_hypo_sim'])"
   ]
  },
  {
   "cell_type": "code",
   "execution_count": 148,
   "metadata": {},
   "outputs": [
    {
     "name": "stdout",
     "output_type": "stream",
     "text": [
      "m0_right_m1_wrong\n",
      "ask_for_cause_ratio 0.5449438202247191\n",
      "hypo_sim 0.34923573026140586\n",
      "m0_wrong_m1_right\n",
      "ask_for_cause_ratio 0.5121951219512195\n",
      "hypo_sim 0.3627962773665786\n",
      "both_right\n",
      "ask_for_cause_ratio 0.5190548780487805\n",
      "hypo_sim 0.26916532526136105\n",
      "both_wrong\n",
      "ask_for_cause_ratio 0.46604215456674475\n",
      "hypo_sim 0.3774465502739232\n"
     ]
    }
   ],
   "source": [
    "print('m0_right_m1_wrong')\n",
    "cut_cr_by_task(m0_right_m1_wrong)\n",
    "print('m0_wrong_m1_right')\n",
    "cut_cr_by_task(m0_wrong_m1_right)\n",
    "print('both_right')\n",
    "cut_cr_by_task(both_right)\n",
    "print('both_wrong')\n",
    "cut_cr_by_task(both_wrong)"
   ]
  },
  {
   "cell_type": "code",
   "execution_count": 150,
   "metadata": {},
   "outputs": [],
   "source": [
    "# For CR-EG model, check correlation between CR task metrics and EG task metrics\n",
    "right = dict(indices=[])\n",
    "wrong = dict(indices=[])\n",
    "for i in range(len(m1_cr)):\n",
    "    if m1_cr[i] == 1:\n",
    "        right['indices'].append(i)\n",
    "    else:\n",
    "        wrong['indices'].append(i)\n",
    "        \n"
   ]
  },
  {
   "cell_type": "code",
   "execution_count": 151,
   "metadata": {},
   "outputs": [],
   "source": [
    "compute_eg_aggregate_metrics(right, None, m1_eg)\n",
    "compute_eg_aggregate_metrics(wrong, None, m1_eg)"
   ]
  },
  {
   "cell_type": "code",
   "execution_count": 152,
   "metadata": {},
   "outputs": [
    {
     "name": "stdout",
     "output_type": "stream",
     "text": [
      "right\n",
      "avg_bleu 0.30273805970287565\n",
      "rouge1 0.26071561537845583\n",
      "rouge2 0.0869570427138577\n",
      "rougel 0.25357252419662724\n",
      "avg_rouge 0.20041506076298102\n",
      "cos_sim 0.6227574464892656\n",
      "wrong\n",
      "avg_bleu 0.2936139517943175\n",
      "rouge1 0.25098908667090486\n",
      "rouge2 0.07582686826488484\n",
      "rougel 0.2432551929246144\n",
      "avg_rouge 0.19002371595346856\n",
      "cos_sim 0.6028600725045136\n"
     ]
    }
   ],
   "source": [
    "print(\"right\")\n",
    "view_eg_aggregate_metrics(right)\n",
    "print(\"wrong\")\n",
    "view_eg_aggregate_metrics(wrong)"
   ]
  },
  {
   "cell_type": "code",
   "execution_count": 193,
   "metadata": {},
   "outputs": [],
   "source": [
    "cr_eg_df = pd.DataFrame(data=m1_eg)\n",
    "cr_eg_df['correct'] = m1_cr\n",
    "cr_eg_df['ask_for_cause'] = ask_for_cause\n",
    "cr_eg_df['hypo_sim'] = hypo_sim"
   ]
  },
  {
   "cell_type": "code",
   "execution_count": 184,
   "metadata": {},
   "outputs": [
    {
     "data": {
      "text/plain": [
       "-0.09644091129302979"
      ]
     },
     "execution_count": 184,
     "metadata": {},
     "output_type": "execute_result"
    }
   ],
   "source": [
    "min(hypo_sim)"
   ]
  },
  {
   "cell_type": "code",
   "execution_count": 194,
   "metadata": {},
   "outputs": [
    {
     "data": {
      "text/plain": [
       "Text(0.5, 9.444444444444438, \"Hypotheses' cosine similarity\")"
      ]
     },
     "execution_count": 194,
     "metadata": {},
     "output_type": "execute_result"
    },
    {
     "data": {
      "image/png": "[encoded data removed]",
      "text/plain": [
       "<Figure size 559.861x500 with 1 Axes>"
      ]
     },
     "metadata": {},
     "output_type": "display_data"
    }
   ],
   "source": [
    "sns.displot(data=cr_eg_df, x='hypo_sim', hue='correct', multiple='stack', bins=[-0.2, 0, 0.2, 0.4, 0.6, 0.8, 1.0])\n",
    "plt.xlabel(\"Hypotheses' cosine similarity\")"
   ]
  },
  {
   "cell_type": "code",
   "execution_count": 195,
   "metadata": {},
   "outputs": [
    {
     "data": {
      "text/html": [
       "<div>\n",
       "<style scoped>\n",
       "    .dataframe tbody tr th:only-of-type {\n",
       "        vertical-align: middle;\n",
       "    }\n",
       "\n",
       "    .dataframe tbody tr th {\n",
       "        vertical-align: top;\n",
       "    }\n",
       "\n",
       "    .dataframe thead th {\n",
       "        text-align: right;\n",
       "    }\n",
       "</style>\n",
       "<table border=\"1\" class=\"dataframe\">\n",
       "  <thead>\n",
       "    <tr style=\"text-align: right;\">\n",
       "      <th></th>\n",
       "      <th>avg_bleu</th>\n",
       "      <th>rouge1</th>\n",
       "      <th>rouge2</th>\n",
       "      <th>rougel</th>\n",
       "      <th>avg_rouge</th>\n",
       "      <th>cos_sim</th>\n",
       "      <th>correct</th>\n",
       "      <th>ask_for_cause</th>\n",
       "      <th>hypo_sim</th>\n",
       "    </tr>\n",
       "  </thead>\n",
       "  <tbody>\n",
       "    <tr>\n",
       "      <th>0</th>\n",
       "      <td>0.368134</td>\n",
       "      <td>0.428571</td>\n",
       "      <td>0.000</td>\n",
       "      <td>0.285714</td>\n",
       "      <td>0.238095</td>\n",
       "      <td>0.827844</td>\n",
       "      <td>0</td>\n",
       "      <td>1</td>\n",
       "      <td>0.398462</td>\n",
       "    </tr>\n",
       "    <tr>\n",
       "      <th>1</th>\n",
       "      <td>0.372037</td>\n",
       "      <td>0.235294</td>\n",
       "      <td>0.125</td>\n",
       "      <td>0.235294</td>\n",
       "      <td>0.198529</td>\n",
       "      <td>0.628947</td>\n",
       "      <td>1</td>\n",
       "      <td>0</td>\n",
       "      <td>0.310161</td>\n",
       "    </tr>\n",
       "    <tr>\n",
       "      <th>2</th>\n",
       "      <td>0.196922</td>\n",
       "      <td>0.000000</td>\n",
       "      <td>0.000</td>\n",
       "      <td>0.000000</td>\n",
       "      <td>0.000000</td>\n",
       "      <td>0.608897</td>\n",
       "      <td>1</td>\n",
       "      <td>1</td>\n",
       "      <td>0.621964</td>\n",
       "    </tr>\n",
       "    <tr>\n",
       "      <th>3</th>\n",
       "      <td>0.205334</td>\n",
       "      <td>0.333333</td>\n",
       "      <td>0.000</td>\n",
       "      <td>0.333333</td>\n",
       "      <td>0.222222</td>\n",
       "      <td>0.795344</td>\n",
       "      <td>1</td>\n",
       "      <td>1</td>\n",
       "      <td>0.341030</td>\n",
       "    </tr>\n",
       "    <tr>\n",
       "      <th>4</th>\n",
       "      <td>0.189313</td>\n",
       "      <td>0.222222</td>\n",
       "      <td>0.125</td>\n",
       "      <td>0.222222</td>\n",
       "      <td>0.189815</td>\n",
       "      <td>0.838283</td>\n",
       "      <td>1</td>\n",
       "      <td>1</td>\n",
       "      <td>0.137618</td>\n",
       "    </tr>\n",
       "  </tbody>\n",
       "</table>\n",
       "</div>"
      ],
      "text/plain": [
       "   avg_bleu    rouge1  rouge2    rougel  avg_rouge   cos_sim  correct  \\\n",
       "0  0.368134  0.428571   0.000  0.285714   0.238095  0.827844        0   \n",
       "1  0.372037  0.235294   0.125  0.235294   0.198529  0.628947        1   \n",
       "2  0.196922  0.000000   0.000  0.000000   0.000000  0.608897        1   \n",
       "3  0.205334  0.333333   0.000  0.333333   0.222222  0.795344        1   \n",
       "4  0.189313  0.222222   0.125  0.222222   0.189815  0.838283        1   \n",
       "\n",
       "   ask_for_cause  hypo_sim  \n",
       "0              1  0.398462  \n",
       "1              0  0.310161  \n",
       "2              1  0.621964  \n",
       "3              1  0.341030  \n",
       "4              1  0.137618  "
      ]
     },
     "execution_count": 195,
     "metadata": {},
     "output_type": "execute_result"
    }
   ],
   "source": [
    "cr_eg_df.head()"
   ]
  },
  {
   "cell_type": "code",
   "execution_count": 196,
   "metadata": {},
   "outputs": [
    {
     "data": {
      "text/html": [
       "<div>\n",
       "<style scoped>\n",
       "    .dataframe tbody tr th:only-of-type {\n",
       "        vertical-align: middle;\n",
       "    }\n",
       "\n",
       "    .dataframe tbody tr th {\n",
       "        vertical-align: top;\n",
       "    }\n",
       "\n",
       "    .dataframe thead th {\n",
       "        text-align: right;\n",
       "    }\n",
       "</style>\n",
       "<table border=\"1\" class=\"dataframe\">\n",
       "  <thead>\n",
       "    <tr style=\"text-align: right;\">\n",
       "      <th></th>\n",
       "      <th>avg_bleu</th>\n",
       "      <th>rouge1</th>\n",
       "      <th>rouge2</th>\n",
       "      <th>rougel</th>\n",
       "      <th>avg_rouge</th>\n",
       "      <th>cos_sim</th>\n",
       "      <th>correct</th>\n",
       "      <th>ask_for_cause</th>\n",
       "      <th>hypo_sim</th>\n",
       "    </tr>\n",
       "  </thead>\n",
       "  <tbody>\n",
       "    <tr>\n",
       "      <th>avg_bleu</th>\n",
       "      <td>1.000000</td>\n",
       "      <td>0.815827</td>\n",
       "      <td>0.665500</td>\n",
       "      <td>0.812003</td>\n",
       "      <td>0.812772</td>\n",
       "      <td>0.671610</td>\n",
       "      <td>0.019955</td>\n",
       "      <td>-0.017886</td>\n",
       "      <td>-0.001544</td>\n",
       "    </tr>\n",
       "    <tr>\n",
       "      <th>rouge1</th>\n",
       "      <td>0.815827</td>\n",
       "      <td>1.000000</td>\n",
       "      <td>0.760931</td>\n",
       "      <td>0.992075</td>\n",
       "      <td>0.979106</td>\n",
       "      <td>0.609272</td>\n",
       "      <td>0.018344</td>\n",
       "      <td>-0.005131</td>\n",
       "      <td>0.004634</td>\n",
       "    </tr>\n",
       "    <tr>\n",
       "      <th>rouge2</th>\n",
       "      <td>0.665500</td>\n",
       "      <td>0.760931</td>\n",
       "      <td>1.000000</td>\n",
       "      <td>0.771091</td>\n",
       "      <td>0.873485</td>\n",
       "      <td>0.409612</td>\n",
       "      <td>0.027723</td>\n",
       "      <td>0.000762</td>\n",
       "      <td>0.001015</td>\n",
       "    </tr>\n",
       "    <tr>\n",
       "      <th>rougel</th>\n",
       "      <td>0.812003</td>\n",
       "      <td>0.992075</td>\n",
       "      <td>0.771091</td>\n",
       "      <td>1.000000</td>\n",
       "      <td>0.982006</td>\n",
       "      <td>0.605090</td>\n",
       "      <td>0.019803</td>\n",
       "      <td>-0.008222</td>\n",
       "      <td>0.001493</td>\n",
       "    </tr>\n",
       "    <tr>\n",
       "      <th>avg_rouge</th>\n",
       "      <td>0.812772</td>\n",
       "      <td>0.979106</td>\n",
       "      <td>0.873485</td>\n",
       "      <td>0.982006</td>\n",
       "      <td>1.000000</td>\n",
       "      <td>0.581092</td>\n",
       "      <td>0.022566</td>\n",
       "      <td>-0.004849</td>\n",
       "      <td>0.002637</td>\n",
       "    </tr>\n",
       "    <tr>\n",
       "      <th>cos_sim</th>\n",
       "      <td>0.671610</td>\n",
       "      <td>0.609272</td>\n",
       "      <td>0.409612</td>\n",
       "      <td>0.605090</td>\n",
       "      <td>0.581092</td>\n",
       "      <td>1.000000</td>\n",
       "      <td>0.039139</td>\n",
       "      <td>-0.002814</td>\n",
       "      <td>0.026346</td>\n",
       "    </tr>\n",
       "    <tr>\n",
       "      <th>correct</th>\n",
       "      <td>0.019955</td>\n",
       "      <td>0.018344</td>\n",
       "      <td>0.027723</td>\n",
       "      <td>0.019803</td>\n",
       "      <td>0.022566</td>\n",
       "      <td>0.039139</td>\n",
       "      <td>1.000000</td>\n",
       "      <td>0.026074</td>\n",
       "      <td>-0.177581</td>\n",
       "    </tr>\n",
       "    <tr>\n",
       "      <th>ask_for_cause</th>\n",
       "      <td>-0.017886</td>\n",
       "      <td>-0.005131</td>\n",
       "      <td>0.000762</td>\n",
       "      <td>-0.008222</td>\n",
       "      <td>-0.004849</td>\n",
       "      <td>-0.002814</td>\n",
       "      <td>0.026074</td>\n",
       "      <td>1.000000</td>\n",
       "      <td>-0.031006</td>\n",
       "    </tr>\n",
       "    <tr>\n",
       "      <th>hypo_sim</th>\n",
       "      <td>-0.001544</td>\n",
       "      <td>0.004634</td>\n",
       "      <td>0.001015</td>\n",
       "      <td>0.001493</td>\n",
       "      <td>0.002637</td>\n",
       "      <td>0.026346</td>\n",
       "      <td>-0.177581</td>\n",
       "      <td>-0.031006</td>\n",
       "      <td>1.000000</td>\n",
       "    </tr>\n",
       "  </tbody>\n",
       "</table>\n",
       "</div>"
      ],
      "text/plain": [
       "               avg_bleu    rouge1    rouge2    rougel  avg_rouge   cos_sim  \\\n",
       "avg_bleu       1.000000  0.815827  0.665500  0.812003   0.812772  0.671610   \n",
       "rouge1         0.815827  1.000000  0.760931  0.992075   0.979106  0.609272   \n",
       "rouge2         0.665500  0.760931  1.000000  0.771091   0.873485  0.409612   \n",
       "rougel         0.812003  0.992075  0.771091  1.000000   0.982006  0.605090   \n",
       "avg_rouge      0.812772  0.979106  0.873485  0.982006   1.000000  0.581092   \n",
       "cos_sim        0.671610  0.609272  0.409612  0.605090   0.581092  1.000000   \n",
       "correct        0.019955  0.018344  0.027723  0.019803   0.022566  0.039139   \n",
       "ask_for_cause -0.017886 -0.005131  0.000762 -0.008222  -0.004849 -0.002814   \n",
       "hypo_sim      -0.001544  0.004634  0.001015  0.001493   0.002637  0.026346   \n",
       "\n",
       "                correct  ask_for_cause  hypo_sim  \n",
       "avg_bleu       0.019955      -0.017886 -0.001544  \n",
       "rouge1         0.018344      -0.005131  0.004634  \n",
       "rouge2         0.027723       0.000762  0.001015  \n",
       "rougel         0.019803      -0.008222  0.001493  \n",
       "avg_rouge      0.022566      -0.004849  0.002637  \n",
       "cos_sim        0.039139      -0.002814  0.026346  \n",
       "correct        1.000000       0.026074 -0.177581  \n",
       "ask_for_cause  0.026074       1.000000 -0.031006  \n",
       "hypo_sim      -0.177581      -0.031006  1.000000  "
      ]
     },
     "execution_count": 196,
     "metadata": {},
     "output_type": "execute_result"
    }
   ],
   "source": [
    "cr_eg_df.corr()"
   ]
  },
  {
   "cell_type": "code",
   "execution_count": 199,
   "metadata": {},
   "outputs": [
    {
     "name": "stdout",
     "output_type": "stream",
     "text": [
      "[866, 1009, 1244, 1252, 1350, 1499, 1790, 1895]\n"
     ]
    }
   ],
   "source": [
    "hypo_sim_index_09, hypo_sim_09 = [], []\n",
    "for i, sim in enumerate(hypo_sim):\n",
    "    if sim > 0.9 and m1_cr[i] == 0 and m0_cr[i] == 0:\n",
    "        hypo_sim_index_09.append(i)\n",
    "        hypo_sim_09.append(sim)\n",
    "print(hypo_sim_index_09)"
   ]
  },
  {
   "cell_type": "code",
   "execution_count": 200,
   "metadata": {},
   "outputs": [
    {
     "name": "stdout",
     "output_type": "stream",
     "text": [
      "[62, 88, 90, 114, 118, 150, 156, 159, 173, 211, 215, 219, 233, 235, 280, 331, 333, 336, 340, 353, 369, 391, 392, 422, 447, 516, 551, 560, 565, 583, 588, 649, 745, 763, 867, 879, 897, 899, 908, 942, 966, 1001, 1003, 1031, 1048, 1067, 1106, 1130, 1148, 1180, 1181, 1187, 1193, 1231, 1273, 1305, 1316, 1337, 1339, 1366, 1482, 1512, 1545, 1561, 1587, 1599, 1646, 1675, 1712, 1743, 1745, 1754, 1805, 1811, 1871, 1882, 1891, 1904, 1907, 1920, 1962, 1986, 1991, 1994, 2098, 2108]\n"
     ]
    }
   ],
   "source": [
    "hypo_sim_index_0406, hypo_sim_0406 = [], []\n",
    "for i, sim in enumerate(hypo_sim):\n",
    "    if 0.4 < sim < 0.6 and m1_cr[i] == 0 and m0_cr[i] == 0:\n",
    "        hypo_sim_index_0406.append(i)\n",
    "        hypo_sim_0406.append(sim)\n",
    "print(hypo_sim_index_0406)"
   ]
  },
  {
   "cell_type": "code",
   "execution_count": 202,
   "metadata": {},
   "outputs": [
    {
     "name": "stdout",
     "output_type": "stream",
     "text": [
      "[32, 35, 38, 54, 57, 74, 128, 147, 164, 176, 177, 194, 214, 221, 228, 238, 258, 263, 267, 285, 289, 346, 348, 359, 401, 433, 441, 442, 455, 479, 523, 549, 566, 599, 629, 652, 655, 672, 675, 722, 725, 799, 814, 834, 857, 878, 903, 913, 918, 919, 955, 1015, 1018, 1036, 1040, 1056, 1083, 1089, 1093, 1101, 1133, 1164, 1172, 1188, 1206, 1227, 1233, 1234, 1248, 1257, 1282, 1373, 1376, 1410, 1488, 1537, 1553, 1605, 1660, 1686, 1688, 1701, 1704, 1788, 1812, 1814, 1830, 1834, 1840, 1851, 1859, 1863, 1880, 1930, 1949, 1952, 1990, 2011, 2022, 2057, 2088, 2097]\n"
     ]
    }
   ],
   "source": [
    "hypo_sim_index_0002, hypo_sim_0002 = [], []\n",
    "for i, sim in enumerate(hypo_sim):\n",
    "    if 0 < sim < 0.2 and m1_cr[i] == 0 and m0_cr[i] == 0:\n",
    "        hypo_sim_index_0002.append(i)\n",
    "        hypo_sim_0002.append(sim)\n",
    "print(hypo_sim_index_0002)"
   ]
  },
  {
   "cell_type": "code",
   "execution_count": 203,
   "metadata": {},
   "outputs": [
    {
     "name": "stdout",
     "output_type": "stream",
     "text": [
      "0 1\n"
     ]
    }
   ],
   "source": [
    "print(m0_cr[39], m1_cr[39])"
   ]
  },
  {
   "cell_type": "code",
   "execution_count": 209,
   "metadata": {},
   "outputs": [
    {
     "data": {
      "text/plain": [
       "[33, 39, 48, 53, 69]"
      ]
     },
     "execution_count": 209,
     "metadata": {},
     "output_type": "execute_result"
    }
   ],
   "source": [
    "m0_wrong_m1_right['indices'][:5]\n"
   ]
  },
  {
   "cell_type": "code",
   "execution_count": 207,
   "metadata": {},
   "outputs": [
    {
     "data": {
      "text/plain": [
       "0.6170845382608137"
      ]
     },
     "execution_count": 207,
     "metadata": {},
     "output_type": "execute_result"
    }
   ],
   "source": [
    "m1_cos_sim = [e['cos_sim'] for e in m1_eg]\n",
    "sum(m1_cos_sim)/len(m1_cos_sim)"
   ]
  },
  {
   "cell_type": "code",
   "execution_count": 208,
   "metadata": {},
   "outputs": [
    {
     "data": {
      "text/plain": [
       "0.5228403264502064"
      ]
     },
     "execution_count": 208,
     "metadata": {},
     "output_type": "execute_result"
    }
   ],
   "source": [
    "m2_eg = single_eg\n",
    "m2_cos_sim = [e['cos_sim'] for e in m2_eg]\n",
    "sum(m2_cos_sim)/len(m2_cos_sim)"
   ]
  },
  {
   "cell_type": "code",
   "execution_count": null,
   "metadata": {},
   "outputs": [],
   "source": []
  }
 ],
 "metadata": {
  "kernelspec": {
   "display_name": "Python 3.10.6 ('ecr': venv)",
   "language": "python",
   "name": "python3"
  },
  "language_info": {
   "codemirror_mode": {
    "name": "ipython",
    "version": 3
   },
   "file_extension": ".py",
   "mimetype": "text/x-python",
   "name": "python",
   "nbconvert_exporter": "python",
   "pygments_lexer": "ipython3",
   "version": "3.10.6"
  },
  "orig_nbformat": 4,
  "vscode": {
   "interpreter": {
    "hash": "342cf50a2a0ccf205598e4cf1419c1a77eb2eb180ab9b4fd6e25a3bde062807b"
   }
  }
 },
 "nbformat": 4,
 "nbformat_minor": 2
}
